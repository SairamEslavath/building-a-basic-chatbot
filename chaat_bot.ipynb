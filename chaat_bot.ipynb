{
  "nbformat": 4,
  "nbformat_minor": 0,
  "metadata": {
    "colab": {
      "provenance": []
    },
    "kernelspec": {
      "name": "python3",
      "display_name": "Python 3"
    },
    "language_info": {
      "name": "python"
    }
  },
  "cells": [
    {
      "cell_type": "code",
      "source": [
        "import nltk\n",
        "import string\n",
        "import random\n",
        "import numpy\n",
        "from sklearn.feature_extraction.text import TfidfVectorizer\n",
        "from sklearn.metrics.pairwise import cosine_similarity\n",
        "\n",
        "data = open(\"/content/universe.txt\", \"r\")\n",
        "raw_doc = data.read()\n",
        "raw_doc = raw_doc.lower()\n",
        "\n",
        "nltk.download(\"punkt\")\n",
        "nltk.download(\"wordnet\")\n",
        "nltk.download(\"omw-1.4\")\n",
        "\n",
        "word_tokens = nltk.word_tokenize(raw_doc)\n",
        "sent_tokens = nltk.sent_tokenize(raw_doc)\n",
        "\n",
        "lemmer = nltk.stem.WordNetLemmatizer()\n",
        "\n",
        "def lemtokens(tokens):\n",
        "    return [lemmer.lemmatize(token) for token in tokens]\n",
        "\n",
        "remove_punct_dict = dict((ord(punct), None) for punct in string.punctuation)\n",
        "\n",
        "def lem_normalise(text):\n",
        "    return lemtokens(nltk.word_tokenize(text.lower().translate(remove_punct_dict)))\n",
        "\n",
        "# Defining greeting function\n",
        "greet_inputs = [\"hi\", \"hello\", \"wassup\", \"how are you?\"]\n",
        "greet_response = [\"hi\", \"hey\", \"hey there\", \"bathike unna\"]\n",
        "\n",
        "def greet(sentence):\n",
        "    for word in sentence.split():\n",
        "        if word.lower() in greet_inputs:\n",
        "            return random.choice(greet_response)\n",
        "    return None\n",
        "\n",
        "def response(user_response):\n",
        "    robo1_response = ''\n",
        "    Tfidfvector = TfidfVectorizer(tokenizer=lem_normalise, stop_words=\"english\")\n",
        "    tfidf = Tfidfvector.fit_transform(sent_tokens)\n",
        "    vals = cosine_similarity(tfidf[-1], tfidf)\n",
        "    idx = vals.argsort()[0][-2]\n",
        "    flat = vals.flatten()\n",
        "    flat.sort()\n",
        "    req_tfidf = flat[-2]\n",
        "    if req_tfidf == 0:\n",
        "        robo1_response = robo1_response + \"I am sorry, I am unable to understand you.\"\n",
        "        return robo1_response\n",
        "    else:\n",
        "        robo1_response = robo1_response + sent_tokens[idx]\n",
        "        return robo1_response\n",
        "\n",
        "flag = True\n",
        "print(\"Hey, I am a learning bot. I can help you by answering your questions based on my training.\")\n",
        "\n",
        "while flag:\n",
        "    user_response = input()\n",
        "    user_response = user_response.lower()\n",
        "\n",
        "    if user_response != \"bye\":\n",
        "        if user_response == \"thank you\" or user_response == \"thanks\":\n",
        "            flag = False\n",
        "            print(\"Bot: You are welcome.\")\n",
        "        else:\n",
        "            if greet(user_response) is not None:\n",
        "                print(\"Bot: \" + greet(user_response))\n",
        "            else:\n",
        "                sent_tokens.append(user_response)\n",
        "                word_tokens = word_tokens + nltk.word_tokenize(user_response)\n",
        "                final_words = list(set(word_tokens))\n",
        "                print(\"Bot: \", end=\"\")\n",
        "                print(response(user_response))\n",
        "                sent_tokens.remove(user_response)\n",
        "    else:\n",
        "        flag = False\n",
        "        print(\"Bot: Goodbye.\")\n"
      ],
      "metadata": {
        "colab": {
          "base_uri": "https://localhost:8080/"
        },
        "id": "z2uU7Gh9gVOq",
        "outputId": "061ce1e4-51c9-4471-c3bc-74d6152d9d97"
      },
      "execution_count": 75,
      "outputs": [
        {
          "output_type": "stream",
          "name": "stderr",
          "text": [
            "[nltk_data] Downloading package punkt to /root/nltk_data...\n",
            "[nltk_data]   Package punkt is already up-to-date!\n",
            "[nltk_data] Downloading package wordnet to /root/nltk_data...\n",
            "[nltk_data]   Package wordnet is already up-to-date!\n",
            "[nltk_data] Downloading package omw-1.4 to /root/nltk_data...\n",
            "[nltk_data]   Package omw-1.4 is already up-to-date!\n"
          ]
        },
        {
          "output_type": "stream",
          "name": "stdout",
          "text": [
            "Hey, I am a learning bot. I can help you by answering your questions based on my training.\n",
            "hi\n",
            "Bot: bathike unna\n",
            "hello\n",
            "Bot: hey\n",
            "wassup\n",
            "Bot: hi\n",
            "universe\n",
            "Bot: some physicists have suggested various multiverse hypotheses, in which our universe might be one among many universes that likewise exist.\n",
            "theory\n",
            "Bot: the big bang theory is the prevailing cosmological description of the development of the universe.\n",
            "bye\n",
            "Bot: Goodbye.\n"
          ]
        }
      ]
    },
    {
      "cell_type": "code",
      "source": [],
      "metadata": {
        "id": "-4t59bMEp9Eu"
      },
      "execution_count": null,
      "outputs": []
    },
    {
      "cell_type": "markdown",
      "source": [
        "### **Building a chat bot and the process behind it (each and every step)\n",
        "\n"
      ],
      "metadata": {
        "id": "mNoSyK78vQb-"
      }
    },
    {
      "cell_type": "markdown",
      "source": [
        "# Importing necessry libraries"
      ],
      "metadata": {
        "id": "_scNeTIFvlvL"
      }
    },
    {
      "cell_type": "markdown",
      "source": [
        "**NLTK**"
      ],
      "metadata": {
        "id": "qOmqdijEwic-"
      }
    },
    {
      "cell_type": "markdown",
      "source": [
        " NLTK is a versatile and comprehensive library that offers a rich set of tools, data, and algorithms for NLP tasks. It is widely used by researchers, developers, and practitioners in the field of natural language processing and computational linguistics"
      ],
      "metadata": {
        "id": "Hk3SjlZWwX19"
      }
    },
    {
      "cell_type": "code",
      "source": [
        "import nltk\n",
        "import random   # it is used to choose random text\n",
        "import numpy as np  #used for numerical computation\n",
        "import string     #it is used for string operation (we are working with text data)"
      ],
      "metadata": {
        "id": "XPwSXc1Mv2BM"
      },
      "execution_count": 47,
      "outputs": []
    },
    {
      "cell_type": "markdown",
      "source": [
        "Downloading the data"
      ],
      "metadata": {
        "id": "43-3TrXmxIOV"
      }
    },
    {
      "cell_type": "code",
      "source": [
        "data=open(\"/content/universe.txt\")   #reading data by using file handling and saving in a variable\n",
        "raw_doc=data.read()\n",
        "raw_doc"
      ],
      "metadata": {
        "colab": {
          "base_uri": "https://localhost:8080/",
          "height": 192
        },
        "id": "b6Kr6-lVw6oj",
        "outputId": "2f90b32c-f723-4381-bc9a-5a0d16d98bdd"
      },
      "execution_count": 48,
      "outputs": [
        {
          "output_type": "execute_result",
          "data": {
            "text/plain": [
              "'The universe is all of space and time[a] and their contents,[10] including planets, stars, galaxies, and all other forms of matter and energy. The Big Bang theory is the prevailing cosmological description of the development of the universe. According to this theory, space and time emerged together 13.787±0.020 billion years ago,[11] and the universe has been expanding ever since the Big Bang. While the spatial size of the entire universe is unknown,[3] it is possible to measure the size of the observable universe, which is approximately 93 billion light-years in diameter at the present day.\\n\\nSome of the earliest cosmological models of the universe were developed by ancient Greek and Indian philosophers and were geocentric, placing Earth at the center.[12][13] Over the centuries, more precise astronomical observations led Nicolaus Copernicus to develop the heliocentric model with the Sun at the center of the Solar System. In developing the law of universal gravitation, Isaac Newton built upon Copernicus\\'s work as well as Johannes Kepler\\'s laws of planetary motion and observations by Tycho Brahe.\\n\\nFurther observational improvements led to the realization that the Sun is one of a few hundred billion stars in the Milky Way, which is one of a few hundred billion galaxies in the observable universe. Many of the stars in a galaxy have planets. At the largest scale, galaxies are distributed uniformly and the same in all directions, meaning that the universe has neither an edge nor a center. At smaller scales, galaxies are distributed in clusters and superclusters which form immense filaments and voids in space, creating a vast foam-like structure.[14] Discoveries in the early 20th century have suggested that the universe had a beginning and that space has been expanding since then[15] at an increasing rate.[16]\\n\\nAccording to the Big Bang theory, the energy and matter initially present have become less dense as the universe expanded. After an initial accelerated expansion called the inflationary epoch at around 10−32 seconds, and the separation of the four known fundamental forces, the universe gradually cooled and continued to expand, allowing the first subatomic particles and simple atoms to form. Dark matter gradually gathered, forming a foam-like structure of filaments and voids under the influence of gravity. Giant clouds of hydrogen and helium were gradually drawn to the places where dark matter was most dense, forming the first galaxies, stars, and everything else seen today.\\n\\nFrom studying the movement of galaxies, it has been discovered that the universe contains much more matter than is accounted for by visible objects; stars, galaxies, nebulas and interstellar gas. This unseen matter is known as dark matter[17] (dark means that there is a wide range of strong indirect evidence that it exists, but we have not yet detected it directly). The ΛCDM model is the most widely accepted model of the universe. It suggests that about 69.2%±1.2% of the mass and energy in the universe is dark energy which is responsible for the acceleration of the expansion of space, and about 25.8%±1.1% is dark matter.[18] Ordinary (\\'baryonic\\') matter is therefore only 4.84%±0.1% of the physical universe.[18] Stars, planets, and visible gas clouds only form about 6% of the ordinary matter.[19]\\n\\nThere are many competing hypotheses about the ultimate fate of the universe and about what, if anything, preceded the Big Bang, while other physicists and philosophers refuse to speculate, doubting that information about prior states will ever be accessible. Some physicists have suggested various multiverse hypotheses, in which our universe might be one among many universes that likewise exist.[3][20][21]\\n\\nPart of a series on\\nPhysical cosmology\\nBig Bang · Universe\\nAge of the universe\\nChronology of the universe\\nEarly universe\\nExpansion · Future\\nComponents · Structure\\nExperiments\\nScientists\\nSubject history\\n Category\\n Astronomy portal\\nvte\\nDefinition\\n0:50\\nHubble Space Telescope – Ultra deep field galaxies to Legacy field zoom out\\n(video 00:50; May 2, 2019)\\nThe physical universe is defined as all of space and time[a] (collectively referred to as spacetime) and their contents.[10] Such contents comprise all of energy in its various forms, including electromagnetic radiation and matter, and therefore planets, moons, stars, galaxies, and the contents of intergalactic space.[22][23][24] The universe also includes the physical laws that influence energy and matter, such as conservation laws, classical mechanics, and relativity.[25]\\n\\nThe universe is often defined as \"the totality of existence\", or everything that exists, everything that has existed, and everything that will exist.[25] In fact, some philosophers and scientists support the inclusion of ideas and abstract concepts—such as mathematics and logic—in the definition of the universe.[27][28][29] The word universe may also refer to concepts such as the cosmos, the world, and nature.[30][31]\\n\\nEtymology\\nThe word universe derives from the Old French word univers, which in turn derives from the Latin word universum.[32] The Latin word was used by Cicero and later Latin authors in many of the same senses as the modern English word is used.[33]\\n\\nSynonyms\\nA term for universe among the ancient Greek philosophers from Pythagoras onwards was τὸ πᾶν (tò pân) \\'the all\\', defined as all matter and all space, and τὸ ὅλον (tò hólon) \\'all things\\', which did not necessarily include the void.[34][35] Another synonym was ὁ κόσμος (ho kósmos) meaning \\'the world, the cosmos\\'.[36] Synonyms are also found in Latin authors (totum, mundus, natura)[37] and survive in modern languages, e.g., the German words Das All, Weltall, and Natur for universe. The same synonyms are found in English, such as everything (as in the theory of everything), the cosmos (as in cosmology), the world (as in the many-worlds interpretation), and nature (as in natural laws or natural philosophy).[38]\\n\\nChronology and the Big Bang\\nMain articles: Big Bang and Chronology of the universe\\nNature timeline\\nThis box: viewtalkedit\\n−13 —–−12 —–−11 —–−10 —–−9 —–−8 —–−7 —–−6 —–−5 —–−4 —–−3 —–−2 —–−1 —–0 —\\nDark Ages\\nReionization\\nMatter-dominated\\nera\\nAccelerated expansion\\nWater on Earth\\nSingle-celled life\\nPhotosynthesis\\nMulticellular\\nlife\\nVertebrates\\n←\\t\\nEarliest Universe\\n←\\t\\nEarliest stars\\n←\\t\\nEarliest galaxy\\n←\\t\\nEarliest quasar / black hole\\n←\\t\\nOmega Centauri\\n←\\t\\nAndromeda Galaxy\\n←\\t\\nMilky Way spirals\\n←\\t\\nNGC 188 star cluster\\n←\\t\\nAlpha Centauri\\n←\\t\\nEarth / Solar System\\n←\\t\\nEarliest known life\\n←\\t\\nEarliest oxygen\\n←\\t\\nAtmospheric oxygen\\n←\\t\\nSexual reproduction\\n←\\t\\nEarliest fungi\\n←\\t\\nEarliest animals / plants\\n←\\t\\nCambrian explosion\\n←\\t\\nEarliest mammals\\n←\\t\\nEarliest apes / humans\\nL\\ni\\nf\\ne\\n(billion years ago)\\nThe prevailing model for the evolution of the universe is the Big Bang theory.[39][40] The Big Bang model states that the earliest state of the universe was an extremely hot and dense one, and that the universe subsequently expanded and cooled. The model is based on general relativity and on simplifying assumptions such as the homogeneity and isotropy of space. A version of the model with a cosmological constant (Lambda) and cold dark matter, known as the Lambda-CDM model, is the simplest model that provides a reasonably good account of various observations about the universe. The Big Bang model accounts for observations such as the correlation of distance and redshift of galaxies, the ratio of the number of hydrogen to helium atoms, and the microwave radiation background.\\n\\n\\nIn this schematic diagram, time passes from left to right, with the universe represented by a disk-shaped \"slice\" at any given time. Time and size are not to scale. To make the early stages visible, the time to the afterglow stage (really the first 0.003%) is stretched and the subsequent expansion (really by 1,100 times to the present) is largely suppressed.\\nThe initial hot, dense state is called the Planck epoch, a brief period extending from time zero to one Planck time unit of approximately 10−43 seconds. During the Planck epoch, all types of matter and all types of energy were concentrated into a dense state, and gravity—currently the weakest by far of the four known forces—is believed to have been as strong as the other fundamental forces, and all the forces may have been unified. The physics controlling this very early period (including quantum gravity in the Planck epoch) is not understood, so we cannot say what, if anything, happened before time zero. Since the Planck epoch, space has been expanding to its present scale, with a very short but intense period of cosmic inflation speculated to have occurred within the first 10−32 seconds.[41] This was a kind of expansion different from those we can see around us today. Objects in space did not physically move; instead the metric that defines space itself changed. Although objects in spacetime cannot move faster than the speed of light, this limitation does not apply to the metric governing spacetime itself. This initial period of inflation would explain why space appears to be very flat, and much larger than light could travel since the start of the universe.\\n\\nWithin the first fraction of a second of the universe\\'s existence, the four fundamental forces had separated. As the universe continued to cool down from its inconceivably hot state, various types of subatomic particles were able to form in short periods of time known as the quark epoch, the hadron epoch, and the lepton epoch. Together, these epochs encompassed less than 10 seconds of time following the Big Bang. These elementary particles associated stably into ever larger combinations, including stable protons and neutrons, which then formed more complex atomic nuclei through nuclear fusion. This process, known as Big Bang nucleosynthesis, only lasted for about 17 minutes and ended about 20 minutes after the Big Bang, so only the fastest and simplest reactions occurred. About 25% of the protons and all the neutrons in the universe, by mass, were converted to helium, with small amounts of deuterium (a form of hydrogen) and traces of lithium. Any other element was only formed in very tiny quantities. The other 75% of the protons remained unaffected, as hydrogen nuclei.[42][43]:\\u200a27–42\\u200a\\n\\nAfter nucleosynthesis ended, the universe entered a period known as the photon epoch. During this period, the universe was still far too hot for matter to form neutral atoms, so it contained a hot, dense, foggy plasma of negatively charged electrons, neutral neutrinos and positive nuclei. After about 377,000 years, the universe had cooled enough that electrons and nuclei could form the first stable atoms. This is known as recombination for historical reasons; in fact electrons and nuclei were combining for the first time. Unlike plasma, neutral atoms are transparent to many wavelengths of light, so for the first time the universe also became transparent. The photons released (\"decoupled\") when these atoms formed can still be seen today; they form the cosmic microwave background (CMB).[43]:\\u200a15–27\\u200a\\n\\nAs the universe expands, the energy density of electromagnetic radiation decreases more quickly than does that of matter because the energy of a photon decreases with its wavelength. At around 47,000 years, the energy density of matter became larger than that of photons and neutrinos, and began to dominate the large scale behavior of the universe. This marked the end of the radiation-dominated era and the start of the matter-dominated era.[44]:\\u200a390\\u200a\\n\\nIn the earliest stages of the universe, tiny fluctuations within the universe\\'s density led to concentrations of dark matter gradually forming. Ordinary matter, attracted to these by gravity, formed large gas clouds and eventually, stars and galaxies, where the dark matter was most dense, and voids where it was least dense. After around 100–300 million years,[44]:\\u200a333\\u200a the first stars formed, known as Population III stars. These were probably very massive, luminous, non metallic and short-lived. They were responsible for the gradual reionization of the universe between about 200–500 million years and 1 billion years, and also for seeding the universe with elements heavier than helium, through stellar nucleosynthesis.[45] The universe also contains a mysterious energy—possibly a scalar field—called dark energy, the density of which does not change over time. After about 9.8 billion years, the universe had expanded sufficiently so that the density of matter was less than the density of dark energy, marking the beginning of the present dark-energy-dominated era.[46] In this era, the expansion of the universe is accelerating due to dark energy.'"
            ],
            "application/vnd.google.colaboratory.intrinsic+json": {
              "type": "string"
            }
          },
          "metadata": {},
          "execution_count": 48
        }
      ]
    },
    {
      "cell_type": "code",
      "source": [
        "raw_doc=raw_doc.lower()  #to avoid case sensitive issues\n",
        "raw_doc"
      ],
      "metadata": {
        "colab": {
          "base_uri": "https://localhost:8080/",
          "height": 192
        },
        "id": "JywUXXm3xfNp",
        "outputId": "62f91cd8-a5d8-4a95-8123-c1f74e7677ce"
      },
      "execution_count": 49,
      "outputs": [
        {
          "output_type": "execute_result",
          "data": {
            "text/plain": [
              "'the universe is all of space and time[a] and their contents,[10] including planets, stars, galaxies, and all other forms of matter and energy. the big bang theory is the prevailing cosmological description of the development of the universe. according to this theory, space and time emerged together 13.787±0.020 billion years ago,[11] and the universe has been expanding ever since the big bang. while the spatial size of the entire universe is unknown,[3] it is possible to measure the size of the observable universe, which is approximately 93 billion light-years in diameter at the present day.\\n\\nsome of the earliest cosmological models of the universe were developed by ancient greek and indian philosophers and were geocentric, placing earth at the center.[12][13] over the centuries, more precise astronomical observations led nicolaus copernicus to develop the heliocentric model with the sun at the center of the solar system. in developing the law of universal gravitation, isaac newton built upon copernicus\\'s work as well as johannes kepler\\'s laws of planetary motion and observations by tycho brahe.\\n\\nfurther observational improvements led to the realization that the sun is one of a few hundred billion stars in the milky way, which is one of a few hundred billion galaxies in the observable universe. many of the stars in a galaxy have planets. at the largest scale, galaxies are distributed uniformly and the same in all directions, meaning that the universe has neither an edge nor a center. at smaller scales, galaxies are distributed in clusters and superclusters which form immense filaments and voids in space, creating a vast foam-like structure.[14] discoveries in the early 20th century have suggested that the universe had a beginning and that space has been expanding since then[15] at an increasing rate.[16]\\n\\naccording to the big bang theory, the energy and matter initially present have become less dense as the universe expanded. after an initial accelerated expansion called the inflationary epoch at around 10−32 seconds, and the separation of the four known fundamental forces, the universe gradually cooled and continued to expand, allowing the first subatomic particles and simple atoms to form. dark matter gradually gathered, forming a foam-like structure of filaments and voids under the influence of gravity. giant clouds of hydrogen and helium were gradually drawn to the places where dark matter was most dense, forming the first galaxies, stars, and everything else seen today.\\n\\nfrom studying the movement of galaxies, it has been discovered that the universe contains much more matter than is accounted for by visible objects; stars, galaxies, nebulas and interstellar gas. this unseen matter is known as dark matter[17] (dark means that there is a wide range of strong indirect evidence that it exists, but we have not yet detected it directly). the λcdm model is the most widely accepted model of the universe. it suggests that about 69.2%±1.2% of the mass and energy in the universe is dark energy which is responsible for the acceleration of the expansion of space, and about 25.8%±1.1% is dark matter.[18] ordinary (\\'baryonic\\') matter is therefore only 4.84%±0.1% of the physical universe.[18] stars, planets, and visible gas clouds only form about 6% of the ordinary matter.[19]\\n\\nthere are many competing hypotheses about the ultimate fate of the universe and about what, if anything, preceded the big bang, while other physicists and philosophers refuse to speculate, doubting that information about prior states will ever be accessible. some physicists have suggested various multiverse hypotheses, in which our universe might be one among many universes that likewise exist.[3][20][21]\\n\\npart of a series on\\nphysical cosmology\\nbig bang · universe\\nage of the universe\\nchronology of the universe\\nearly universe\\nexpansion · future\\ncomponents · structure\\nexperiments\\nscientists\\nsubject history\\n category\\n astronomy portal\\nvte\\ndefinition\\n0:50\\nhubble space telescope – ultra deep field galaxies to legacy field zoom out\\n(video 00:50; may 2, 2019)\\nthe physical universe is defined as all of space and time[a] (collectively referred to as spacetime) and their contents.[10] such contents comprise all of energy in its various forms, including electromagnetic radiation and matter, and therefore planets, moons, stars, galaxies, and the contents of intergalactic space.[22][23][24] the universe also includes the physical laws that influence energy and matter, such as conservation laws, classical mechanics, and relativity.[25]\\n\\nthe universe is often defined as \"the totality of existence\", or everything that exists, everything that has existed, and everything that will exist.[25] in fact, some philosophers and scientists support the inclusion of ideas and abstract concepts—such as mathematics and logic—in the definition of the universe.[27][28][29] the word universe may also refer to concepts such as the cosmos, the world, and nature.[30][31]\\n\\netymology\\nthe word universe derives from the old french word univers, which in turn derives from the latin word universum.[32] the latin word was used by cicero and later latin authors in many of the same senses as the modern english word is used.[33]\\n\\nsynonyms\\na term for universe among the ancient greek philosophers from pythagoras onwards was τὸ πᾶν (tò pân) \\'the all\\', defined as all matter and all space, and τὸ ὅλον (tò hólon) \\'all things\\', which did not necessarily include the void.[34][35] another synonym was ὁ κόσμος (ho kósmos) meaning \\'the world, the cosmos\\'.[36] synonyms are also found in latin authors (totum, mundus, natura)[37] and survive in modern languages, e.g., the german words das all, weltall, and natur for universe. the same synonyms are found in english, such as everything (as in the theory of everything), the cosmos (as in cosmology), the world (as in the many-worlds interpretation), and nature (as in natural laws or natural philosophy).[38]\\n\\nchronology and the big bang\\nmain articles: big bang and chronology of the universe\\nnature timeline\\nthis box: viewtalkedit\\n−13 —–−12 —–−11 —–−10 —–−9 —–−8 —–−7 —–−6 —–−5 —–−4 —–−3 —–−2 —–−1 —–0 —\\ndark ages\\nreionization\\nmatter-dominated\\nera\\naccelerated expansion\\nwater on earth\\nsingle-celled life\\nphotosynthesis\\nmulticellular\\nlife\\nvertebrates\\n←\\t\\nearliest universe\\n←\\t\\nearliest stars\\n←\\t\\nearliest galaxy\\n←\\t\\nearliest quasar / black hole\\n←\\t\\nomega centauri\\n←\\t\\nandromeda galaxy\\n←\\t\\nmilky way spirals\\n←\\t\\nngc 188 star cluster\\n←\\t\\nalpha centauri\\n←\\t\\nearth / solar system\\n←\\t\\nearliest known life\\n←\\t\\nearliest oxygen\\n←\\t\\natmospheric oxygen\\n←\\t\\nsexual reproduction\\n←\\t\\nearliest fungi\\n←\\t\\nearliest animals / plants\\n←\\t\\ncambrian explosion\\n←\\t\\nearliest mammals\\n←\\t\\nearliest apes / humans\\nl\\ni\\nf\\ne\\n(billion years ago)\\nthe prevailing model for the evolution of the universe is the big bang theory.[39][40] the big bang model states that the earliest state of the universe was an extremely hot and dense one, and that the universe subsequently expanded and cooled. the model is based on general relativity and on simplifying assumptions such as the homogeneity and isotropy of space. a version of the model with a cosmological constant (lambda) and cold dark matter, known as the lambda-cdm model, is the simplest model that provides a reasonably good account of various observations about the universe. the big bang model accounts for observations such as the correlation of distance and redshift of galaxies, the ratio of the number of hydrogen to helium atoms, and the microwave radiation background.\\n\\n\\nin this schematic diagram, time passes from left to right, with the universe represented by a disk-shaped \"slice\" at any given time. time and size are not to scale. to make the early stages visible, the time to the afterglow stage (really the first 0.003%) is stretched and the subsequent expansion (really by 1,100 times to the present) is largely suppressed.\\nthe initial hot, dense state is called the planck epoch, a brief period extending from time zero to one planck time unit of approximately 10−43 seconds. during the planck epoch, all types of matter and all types of energy were concentrated into a dense state, and gravity—currently the weakest by far of the four known forces—is believed to have been as strong as the other fundamental forces, and all the forces may have been unified. the physics controlling this very early period (including quantum gravity in the planck epoch) is not understood, so we cannot say what, if anything, happened before time zero. since the planck epoch, space has been expanding to its present scale, with a very short but intense period of cosmic inflation speculated to have occurred within the first 10−32 seconds.[41] this was a kind of expansion different from those we can see around us today. objects in space did not physically move; instead the metric that defines space itself changed. although objects in spacetime cannot move faster than the speed of light, this limitation does not apply to the metric governing spacetime itself. this initial period of inflation would explain why space appears to be very flat, and much larger than light could travel since the start of the universe.\\n\\nwithin the first fraction of a second of the universe\\'s existence, the four fundamental forces had separated. as the universe continued to cool down from its inconceivably hot state, various types of subatomic particles were able to form in short periods of time known as the quark epoch, the hadron epoch, and the lepton epoch. together, these epochs encompassed less than 10 seconds of time following the big bang. these elementary particles associated stably into ever larger combinations, including stable protons and neutrons, which then formed more complex atomic nuclei through nuclear fusion. this process, known as big bang nucleosynthesis, only lasted for about 17 minutes and ended about 20 minutes after the big bang, so only the fastest and simplest reactions occurred. about 25% of the protons and all the neutrons in the universe, by mass, were converted to helium, with small amounts of deuterium (a form of hydrogen) and traces of lithium. any other element was only formed in very tiny quantities. the other 75% of the protons remained unaffected, as hydrogen nuclei.[42][43]:\\u200a27–42\\u200a\\n\\nafter nucleosynthesis ended, the universe entered a period known as the photon epoch. during this period, the universe was still far too hot for matter to form neutral atoms, so it contained a hot, dense, foggy plasma of negatively charged electrons, neutral neutrinos and positive nuclei. after about 377,000 years, the universe had cooled enough that electrons and nuclei could form the first stable atoms. this is known as recombination for historical reasons; in fact electrons and nuclei were combining for the first time. unlike plasma, neutral atoms are transparent to many wavelengths of light, so for the first time the universe also became transparent. the photons released (\"decoupled\") when these atoms formed can still be seen today; they form the cosmic microwave background (cmb).[43]:\\u200a15–27\\u200a\\n\\nas the universe expands, the energy density of electromagnetic radiation decreases more quickly than does that of matter because the energy of a photon decreases with its wavelength. at around 47,000 years, the energy density of matter became larger than that of photons and neutrinos, and began to dominate the large scale behavior of the universe. this marked the end of the radiation-dominated era and the start of the matter-dominated era.[44]:\\u200a390\\u200a\\n\\nin the earliest stages of the universe, tiny fluctuations within the universe\\'s density led to concentrations of dark matter gradually forming. ordinary matter, attracted to these by gravity, formed large gas clouds and eventually, stars and galaxies, where the dark matter was most dense, and voids where it was least dense. after around 100–300 million years,[44]:\\u200a333\\u200a the first stars formed, known as population iii stars. these were probably very massive, luminous, non metallic and short-lived. they were responsible for the gradual reionization of the universe between about 200–500 million years and 1 billion years, and also for seeding the universe with elements heavier than helium, through stellar nucleosynthesis.[45] the universe also contains a mysterious energy—possibly a scalar field—called dark energy, the density of which does not change over time. after about 9.8 billion years, the universe had expanded sufficiently so that the density of matter was less than the density of dark energy, marking the beginning of the present dark-energy-dominated era.[46] in this era, the expansion of the universe is accelerating due to dark energy.'"
            ],
            "application/vnd.google.colaboratory.intrinsic+json": {
              "type": "string"
            }
          },
          "metadata": {},
          "execution_count": 49
        }
      ]
    },
    {
      "cell_type": "code",
      "source": [
        "nltk.download(\"punkt\")   #The punkt tokenizer is a pre-trained model used for tokenization, which means it can split text into individual words or sentences\n",
        "nltk.download(\"wordnet\") #WordNet is a large lexical database of English words. It provides lexical and semantic information, including synonyms, antonyms, hypernyms, hyponyms, and more.\n",
        "                        #WordNet is often used for various NLP tasks such as word sense disambiguation, semantic similarity, and information retrieval.\n",
        "nltk.download(\"omw-1.4\") #Open Multi-lingual wordnet\n",
        "#It includes wordnets for different languages, allowing you to access lexical and semantic information for words in languages other than English."
      ],
      "metadata": {
        "colab": {
          "base_uri": "https://localhost:8080/"
        },
        "id": "glL1czIExyZK",
        "outputId": "d07a86b0-d042-4b31-f9c8-3eb4e74e1447"
      },
      "execution_count": 50,
      "outputs": [
        {
          "output_type": "stream",
          "name": "stderr",
          "text": [
            "[nltk_data] Downloading package punkt to /root/nltk_data...\n",
            "[nltk_data]   Package punkt is already up-to-date!\n",
            "[nltk_data] Downloading package wordnet to /root/nltk_data...\n",
            "[nltk_data]   Package wordnet is already up-to-date!\n",
            "[nltk_data] Downloading package omw-1.4 to /root/nltk_data...\n",
            "[nltk_data]   Package omw-1.4 is already up-to-date!\n"
          ]
        },
        {
          "output_type": "execute_result",
          "data": {
            "text/plain": [
              "True"
            ]
          },
          "metadata": {},
          "execution_count": 50
        }
      ]
    },
    {
      "cell_type": "markdown",
      "source": [
        "**Tokenisation**"
      ],
      "metadata": {
        "id": "P4IAx1ZbzqZV"
      }
    },
    {
      "cell_type": "code",
      "source": [
        "sent_tokens=nltk.sent_tokenize(text=raw_doc)\n",
        "word_tokens=nltk.word_tokenize(text=raw_doc)"
      ],
      "metadata": {
        "id": "gJ6_z0QSy90p"
      },
      "execution_count": 51,
      "outputs": []
    },
    {
      "cell_type": "code",
      "source": [
        "sent_tokens[:5]  #glimpse of 5 sentences"
      ],
      "metadata": {
        "colab": {
          "base_uri": "https://localhost:8080/"
        },
        "id": "ctX-o8LE0SnB",
        "outputId": "b5cc9fb4-b712-4506-895d-81ea0c934231"
      },
      "execution_count": 52,
      "outputs": [
        {
          "output_type": "execute_result",
          "data": {
            "text/plain": [
              "['the universe is all of space and time[a] and their contents,[10] including planets, stars, galaxies, and all other forms of matter and energy.',\n",
              " 'the big bang theory is the prevailing cosmological description of the development of the universe.',\n",
              " 'according to this theory, space and time emerged together 13.787±0.020 billion years ago,[11] and the universe has been expanding ever since the big bang.',\n",
              " 'while the spatial size of the entire universe is unknown,[3] it is possible to measure the size of the observable universe, which is approximately 93 billion light-years in diameter at the present day.',\n",
              " 'some of the earliest cosmological models of the universe were developed by ancient greek and indian philosophers and were geocentric, placing earth at the center.']"
            ]
          },
          "metadata": {},
          "execution_count": 52
        }
      ]
    },
    {
      "cell_type": "code",
      "source": [
        "word_tokens[:10]   #glimpse of word tokens"
      ],
      "metadata": {
        "colab": {
          "base_uri": "https://localhost:8080/"
        },
        "id": "U6Xj_XXf0Usd",
        "outputId": "d7b92dbf-0fd9-4bcb-8583-55a6f9af7510"
      },
      "execution_count": 53,
      "outputs": [
        {
          "output_type": "execute_result",
          "data": {
            "text/plain": [
              "['the', 'universe', 'is', 'all', 'of', 'space', 'and', 'time', '[', 'a']"
            ]
          },
          "metadata": {},
          "execution_count": 53
        }
      ]
    },
    {
      "cell_type": "markdown",
      "source": [
        "**Lemmatisation**"
      ],
      "metadata": {
        "id": "Wdu0SRHD0tnA"
      }
    },
    {
      "cell_type": "code",
      "source": [
        "lemmer=nltk.stem.WordNetLemmatizer()\n",
        "lemmer"
      ],
      "metadata": {
        "colab": {
          "base_uri": "https://localhost:8080/"
        },
        "id": "glBIMzi40f1n",
        "outputId": "969f4bf5-341e-44e0-c615-070b22674767"
      },
      "execution_count": 54,
      "outputs": [
        {
          "output_type": "execute_result",
          "data": {
            "text/plain": [
              "<WordNetLemmatizer>"
            ]
          },
          "metadata": {},
          "execution_count": 54
        }
      ]
    },
    {
      "cell_type": "code",
      "source": [
        "sent_tokens"
      ],
      "metadata": {
        "colab": {
          "base_uri": "https://localhost:8080/"
        },
        "id": "ZiU0xRxPASjU",
        "outputId": "b68ebce8-89fc-4da0-c296-a1b05d62943e"
      },
      "execution_count": 55,
      "outputs": [
        {
          "output_type": "execute_result",
          "data": {
            "text/plain": [
              "['the universe is all of space and time[a] and their contents,[10] including planets, stars, galaxies, and all other forms of matter and energy.',\n",
              " 'the big bang theory is the prevailing cosmological description of the development of the universe.',\n",
              " 'according to this theory, space and time emerged together 13.787±0.020 billion years ago,[11] and the universe has been expanding ever since the big bang.',\n",
              " 'while the spatial size of the entire universe is unknown,[3] it is possible to measure the size of the observable universe, which is approximately 93 billion light-years in diameter at the present day.',\n",
              " 'some of the earliest cosmological models of the universe were developed by ancient greek and indian philosophers and were geocentric, placing earth at the center.',\n",
              " '[12][13] over the centuries, more precise astronomical observations led nicolaus copernicus to develop the heliocentric model with the sun at the center of the solar system.',\n",
              " \"in developing the law of universal gravitation, isaac newton built upon copernicus's work as well as johannes kepler's laws of planetary motion and observations by tycho brahe.\",\n",
              " 'further observational improvements led to the realization that the sun is one of a few hundred billion stars in the milky way, which is one of a few hundred billion galaxies in the observable universe.',\n",
              " 'many of the stars in a galaxy have planets.',\n",
              " 'at the largest scale, galaxies are distributed uniformly and the same in all directions, meaning that the universe has neither an edge nor a center.',\n",
              " 'at smaller scales, galaxies are distributed in clusters and superclusters which form immense filaments and voids in space, creating a vast foam-like structure.',\n",
              " '[14] discoveries in the early 20th century have suggested that the universe had a beginning and that space has been expanding since then[15] at an increasing rate.',\n",
              " '[16]\\n\\naccording to the big bang theory, the energy and matter initially present have become less dense as the universe expanded.',\n",
              " 'after an initial accelerated expansion called the inflationary epoch at around 10−32 seconds, and the separation of the four known fundamental forces, the universe gradually cooled and continued to expand, allowing the first subatomic particles and simple atoms to form.',\n",
              " 'dark matter gradually gathered, forming a foam-like structure of filaments and voids under the influence of gravity.',\n",
              " 'giant clouds of hydrogen and helium were gradually drawn to the places where dark matter was most dense, forming the first galaxies, stars, and everything else seen today.',\n",
              " 'from studying the movement of galaxies, it has been discovered that the universe contains much more matter than is accounted for by visible objects; stars, galaxies, nebulas and interstellar gas.',\n",
              " 'this unseen matter is known as dark matter[17] (dark means that there is a wide range of strong indirect evidence that it exists, but we have not yet detected it directly).',\n",
              " 'the λcdm model is the most widely accepted model of the universe.',\n",
              " 'it suggests that about 69.2%±1.2% of the mass and energy in the universe is dark energy which is responsible for the acceleration of the expansion of space, and about 25.8%±1.1% is dark matter.',\n",
              " \"[18] ordinary ('baryonic') matter is therefore only 4.84%±0.1% of the physical universe.\",\n",
              " '[18] stars, planets, and visible gas clouds only form about 6% of the ordinary matter.',\n",
              " '[19]\\n\\nthere are many competing hypotheses about the ultimate fate of the universe and about what, if anything, preceded the big bang, while other physicists and philosophers refuse to speculate, doubting that information about prior states will ever be accessible.',\n",
              " 'some physicists have suggested various multiverse hypotheses, in which our universe might be one among many universes that likewise exist.',\n",
              " '[3][20][21]\\n\\npart of a series on\\nphysical cosmology\\nbig bang · universe\\nage of the universe\\nchronology of the universe\\nearly universe\\nexpansion · future\\ncomponents · structure\\nexperiments\\nscientists\\nsubject history\\n category\\n astronomy portal\\nvte\\ndefinition\\n0:50\\nhubble space telescope – ultra deep field galaxies to legacy field zoom out\\n(video 00:50; may 2, 2019)\\nthe physical universe is defined as all of space and time[a] (collectively referred to as spacetime) and their contents.',\n",
              " '[10] such contents comprise all of energy in its various forms, including electromagnetic radiation and matter, and therefore planets, moons, stars, galaxies, and the contents of intergalactic space.',\n",
              " '[22][23][24] the universe also includes the physical laws that influence energy and matter, such as conservation laws, classical mechanics, and relativity.',\n",
              " '[25]\\n\\nthe universe is often defined as \"the totality of existence\", or everything that exists, everything that has existed, and everything that will exist.',\n",
              " '[25] in fact, some philosophers and scientists support the inclusion of ideas and abstract concepts—such as mathematics and logic—in the definition of the universe.',\n",
              " '[27][28][29] the word universe may also refer to concepts such as the cosmos, the world, and nature.',\n",
              " '[30][31]\\n\\netymology\\nthe word universe derives from the old french word univers, which in turn derives from the latin word universum.',\n",
              " '[32] the latin word was used by cicero and later latin authors in many of the same senses as the modern english word is used.',\n",
              " \"[33]\\n\\nsynonyms\\na term for universe among the ancient greek philosophers from pythagoras onwards was τὸ πᾶν (tò pân) 'the all', defined as all matter and all space, and τὸ ὅλον (tò hólon) 'all things', which did not necessarily include the void.\",\n",
              " \"[34][35] another synonym was ὁ κόσμος (ho kósmos) meaning 'the world, the cosmos'.\",\n",
              " '[36] synonyms are also found in latin authors (totum, mundus, natura)[37] and survive in modern languages, e.g., the german words das all, weltall, and natur for universe.',\n",
              " 'the same synonyms are found in english, such as everything (as in the theory of everything), the cosmos (as in cosmology), the world (as in the many-worlds interpretation), and nature (as in natural laws or natural philosophy).',\n",
              " '[38]\\n\\nchronology and the big bang\\nmain articles: big bang and chronology of the universe\\nnature timeline\\nthis box: viewtalkedit\\n−13 —–−12 —–−11 —–−10 —–−9 —–−8 —–−7 —–−6 —–−5 —–−4 —–−3 —–−2 —–−1 —–0 —\\ndark ages\\nreionization\\nmatter-dominated\\nera\\naccelerated expansion\\nwater on earth\\nsingle-celled life\\nphotosynthesis\\nmulticellular\\nlife\\nvertebrates\\n←\\t\\nearliest universe\\n←\\t\\nearliest stars\\n←\\t\\nearliest galaxy\\n←\\t\\nearliest quasar / black hole\\n←\\t\\nomega centauri\\n←\\t\\nandromeda galaxy\\n←\\t\\nmilky way spirals\\n←\\t\\nngc 188 star cluster\\n←\\t\\nalpha centauri\\n←\\t\\nearth / solar system\\n←\\t\\nearliest known life\\n←\\t\\nearliest oxygen\\n←\\t\\natmospheric oxygen\\n←\\t\\nsexual reproduction\\n←\\t\\nearliest fungi\\n←\\t\\nearliest animals / plants\\n←\\t\\ncambrian explosion\\n←\\t\\nearliest mammals\\n←\\t\\nearliest apes / humans\\nl\\ni\\nf\\ne\\n(billion years ago)\\nthe prevailing model for the evolution of the universe is the big bang theory.',\n",
              " '[39][40] the big bang model states that the earliest state of the universe was an extremely hot and dense one, and that the universe subsequently expanded and cooled.',\n",
              " 'the model is based on general relativity and on simplifying assumptions such as the homogeneity and isotropy of space.',\n",
              " 'a version of the model with a cosmological constant (lambda) and cold dark matter, known as the lambda-cdm model, is the simplest model that provides a reasonably good account of various observations about the universe.',\n",
              " 'the big bang model accounts for observations such as the correlation of distance and redshift of galaxies, the ratio of the number of hydrogen to helium atoms, and the microwave radiation background.',\n",
              " 'in this schematic diagram, time passes from left to right, with the universe represented by a disk-shaped \"slice\" at any given time.',\n",
              " 'time and size are not to scale.',\n",
              " 'to make the early stages visible, the time to the afterglow stage (really the first 0.003%) is stretched and the subsequent expansion (really by 1,100 times to the present) is largely suppressed.',\n",
              " 'the initial hot, dense state is called the planck epoch, a brief period extending from time zero to one planck time unit of approximately 10−43 seconds.',\n",
              " 'during the planck epoch, all types of matter and all types of energy were concentrated into a dense state, and gravity—currently the weakest by far of the four known forces—is believed to have been as strong as the other fundamental forces, and all the forces may have been unified.',\n",
              " 'the physics controlling this very early period (including quantum gravity in the planck epoch) is not understood, so we cannot say what, if anything, happened before time zero.',\n",
              " 'since the planck epoch, space has been expanding to its present scale, with a very short but intense period of cosmic inflation speculated to have occurred within the first 10−32 seconds.',\n",
              " '[41] this was a kind of expansion different from those we can see around us today.',\n",
              " 'objects in space did not physically move; instead the metric that defines space itself changed.',\n",
              " 'although objects in spacetime cannot move faster than the speed of light, this limitation does not apply to the metric governing spacetime itself.',\n",
              " 'this initial period of inflation would explain why space appears to be very flat, and much larger than light could travel since the start of the universe.',\n",
              " \"within the first fraction of a second of the universe's existence, the four fundamental forces had separated.\",\n",
              " 'as the universe continued to cool down from its inconceivably hot state, various types of subatomic particles were able to form in short periods of time known as the quark epoch, the hadron epoch, and the lepton epoch.',\n",
              " 'together, these epochs encompassed less than 10 seconds of time following the big bang.',\n",
              " 'these elementary particles associated stably into ever larger combinations, including stable protons and neutrons, which then formed more complex atomic nuclei through nuclear fusion.',\n",
              " 'this process, known as big bang nucleosynthesis, only lasted for about 17 minutes and ended about 20 minutes after the big bang, so only the fastest and simplest reactions occurred.',\n",
              " 'about 25% of the protons and all the neutrons in the universe, by mass, were converted to helium, with small amounts of deuterium (a form of hydrogen) and traces of lithium.',\n",
              " 'any other element was only formed in very tiny quantities.',\n",
              " 'the other 75% of the protons remained unaffected, as hydrogen nuclei.',\n",
              " '[42][43]:\\u200a27–42\\u200a\\n\\nafter nucleosynthesis ended, the universe entered a period known as the photon epoch.',\n",
              " 'during this period, the universe was still far too hot for matter to form neutral atoms, so it contained a hot, dense, foggy plasma of negatively charged electrons, neutral neutrinos and positive nuclei.',\n",
              " 'after about 377,000 years, the universe had cooled enough that electrons and nuclei could form the first stable atoms.',\n",
              " 'this is known as recombination for historical reasons; in fact electrons and nuclei were combining for the first time.',\n",
              " 'unlike plasma, neutral atoms are transparent to many wavelengths of light, so for the first time the universe also became transparent.',\n",
              " 'the photons released (\"decoupled\") when these atoms formed can still be seen today; they form the cosmic microwave background (cmb).',\n",
              " '[43]:\\u200a15–27\\u200a\\n\\nas the universe expands, the energy density of electromagnetic radiation decreases more quickly than does that of matter because the energy of a photon decreases with its wavelength.',\n",
              " 'at around 47,000 years, the energy density of matter became larger than that of photons and neutrinos, and began to dominate the large scale behavior of the universe.',\n",
              " 'this marked the end of the radiation-dominated era and the start of the matter-dominated era.',\n",
              " \"[44]:\\u200a390\\u200a\\n\\nin the earliest stages of the universe, tiny fluctuations within the universe's density led to concentrations of dark matter gradually forming.\",\n",
              " 'ordinary matter, attracted to these by gravity, formed large gas clouds and eventually, stars and galaxies, where the dark matter was most dense, and voids where it was least dense.',\n",
              " 'after around 100–300 million years,[44]:\\u200a333\\u200a the first stars formed, known as population iii stars.',\n",
              " 'these were probably very massive, luminous, non metallic and short-lived.',\n",
              " 'they were responsible for the gradual reionization of the universe between about 200–500 million years and 1 billion years, and also for seeding the universe with elements heavier than helium, through stellar nucleosynthesis.',\n",
              " '[45] the universe also contains a mysterious energy—possibly a scalar field—called dark energy, the density of which does not change over time.',\n",
              " 'after about 9.8 billion years, the universe had expanded sufficiently so that the density of matter was less than the density of dark energy, marking the beginning of the present dark-energy-dominated era.',\n",
              " '[46] in this era, the expansion of the universe is accelerating due to dark energy.']"
            ]
          },
          "metadata": {},
          "execution_count": 55
        }
      ]
    },
    {
      "cell_type": "markdown",
      "source": [
        "**lemmatisation and normalisimg**"
      ],
      "metadata": {
        "id": "doMZMeGn3v2S"
      }
    },
    {
      "cell_type": "code",
      "source": [
        "def lemtokens(tokens):\n",
        "    return [lemmer.lemmatize(token) for token in tokens]   #make sure lemmatisation perfomed on each token\n",
        "\n",
        "remove_punct_dict = dict((ord(punct), punct) for punct in string.punctuation)   #getting to know about index values of punctuation marks\n",
        "\n",
        "def lem_normalise(text):    #perfoming normalisation on text which we gave and remove punctuation by using translate\n",
        "    return lemtokens(nltk.word_tokenize(text.lower().translate(remove_punct_dict)))\n",
        "print(remove_punct_dict)"
      ],
      "metadata": {
        "id": "TpyXhCueQSeh",
        "colab": {
          "base_uri": "https://localhost:8080/"
        },
        "outputId": "158b9a4e-9c27-468c-eed0-a42303dc6148"
      },
      "execution_count": 57,
      "outputs": [
        {
          "output_type": "stream",
          "name": "stdout",
          "text": [
            "{33: '!', 34: '\"', 35: '#', 36: '$', 37: '%', 38: '&', 39: \"'\", 40: '(', 41: ')', 42: '*', 43: '+', 44: ',', 45: '-', 46: '.', 47: '/', 58: ':', 59: ';', 60: '<', 61: '=', 62: '>', 63: '?', 64: '@', 91: '[', 92: '\\\\', 93: ']', 94: '^', 95: '_', 96: '`', 123: '{', 124: '|', 125: '}', 126: '~'}\n"
          ]
        }
      ]
    },
    {
      "cell_type": "markdown",
      "source": [
        "**Defining greeting functions at start**"
      ],
      "metadata": {
        "id": "NfaDS4Ak7PzB"
      }
    },
    {
      "cell_type": "code",
      "source": [
        "\n",
        "# Defining greeting function\n",
        "greet_inputs = [\"hi\", \"hello\", \"wassup\", \"how are you?\"]\n",
        "greet_response = [\"hi\", \"hey\", \"hey there\", \"bathike unna\"]\n",
        "\n",
        "def greet(sentence):\n",
        "    for word in sentence.split():\n",
        "        if word.lower() in greet_inputs:\n",
        "            return random.choice(greet_response)\n",
        "    return None\n",
        "user_input=input(\"enter a sentence:   \")\n",
        "response=greet(user_input)\n",
        "print(response)"
      ],
      "metadata": {
        "colab": {
          "base_uri": "https://localhost:8080/"
        },
        "id": "79TJnK3W4vrW",
        "outputId": "c308e067-e503-47db-f3d1-ed61543d57fd"
      },
      "execution_count": 66,
      "outputs": [
        {
          "output_type": "stream",
          "name": "stdout",
          "text": [
            "enter a sentence:   wassup\n",
            "hey\n"
          ]
        }
      ]
    },
    {
      "cell_type": "code",
      "source": [
        "def response(user_response):\n",
        "    robo1_response = ''\n",
        "    Tfidfvector = TfidfVectorizer(tokenizer=lem_normalise, stop_words=\"english\")\n",
        "    tfidf = Tfidfvector.fit_transform(sent_tokens)\n",
        "    vals = cosine_similarity(tfidf[-1], tfidf)\n",
        "    idx = vals.argsort()[0][-2]\n",
        "    flat = vals.flatten()\n",
        "    flat.sort()\n",
        "    req_tfidf = flat[-2]\n",
        "    if req_tfidf == 0:\n",
        "        robo1_response = robo1_response + \"I am sorry, I am unable to understand you.\"\n",
        "        return robo1_response\n",
        "    else:\n",
        "        robo1_response = robo1_response + sent_tokens[idx]\n",
        "        return robo1_response\n",
        "userr_response=input(\"enter a repsone\")\n",
        "print(response(userr_response))\n"
      ],
      "metadata": {
        "colab": {
          "base_uri": "https://localhost:8080/"
        },
        "id": "ocrPljlT6mKB",
        "outputId": "564a4f77-7873-46bf-b660-a7f5d26193a9"
      },
      "execution_count": 73,
      "outputs": [
        {
          "output_type": "stream",
          "name": "stdout",
          "text": [
            "enter a repsonebig bang theory\n",
            "the universe is all of space and time[a] and their contents,[10] including planets, stars, galaxies, and all other forms of matter and energy.\n"
          ]
        }
      ]
    },
    {
      "cell_type": "markdown",
      "source": [
        "mentioning outline commands along with the response"
      ],
      "metadata": {
        "id": "zq-20NWf-IrD"
      }
    },
    {
      "cell_type": "code",
      "source": [
        "flag = True\n",
        "print(\"Hey, I am a learning bot. I can help you by answering your questions based on my training.\")\n",
        "\n",
        "while flag:\n",
        "    user_response = input()\n",
        "    user_response = user_response.lower()\n",
        "\n",
        "    if user_response != \"bye\":\n",
        "        if user_response == \"thank you\" or user_response == \"thanks\":\n",
        "            flag = False\n",
        "            print(\"Bot: You are welcome.\")\n",
        "        else:\n",
        "            if greet(user_response) is not None:\n",
        "                print(\"Bot: \" + greet(user_response))\n",
        "            else:\n",
        "                sent_tokens.append(user_response)\n",
        "                word_tokens = word_tokens + nltk.word_tokenize(user_response)\n",
        "                final_words = list(set(word_tokens))\n",
        "                print(\"Bot: \", end=\"\")\n",
        "                print(response(user_response))\n",
        "                sent_tokens.remove(user_response)\n",
        "    else:\n",
        "        flag = False\n",
        "        print(\"Bot: Goodbye.\")"
      ],
      "metadata": {
        "colab": {
          "base_uri": "https://localhost:8080/"
        },
        "id": "p32MREYR79K8",
        "outputId": "9052ffdf-d006-4a96-d0b3-a75c0fe1539c"
      },
      "execution_count": 74,
      "outputs": [
        {
          "output_type": "stream",
          "name": "stdout",
          "text": [
            "Hey, I am a learning bot. I can help you by answering your questions based on my training.\n",
            "hi\n",
            "Bot: bathike unna\n",
            "hey\n",
            "Bot: I am sorry, I am unable to understand you.\n",
            "hello\n",
            "Bot: hey there\n",
            "wassup\n",
            "Bot: hey\n",
            "universe\n",
            "Bot: some physicists have suggested various multiverse hypotheses, in which our universe might be one among many universes that likewise exist.\n",
            "big bang theory\n",
            "Bot: the big bang theory is the prevailing cosmological description of the development of the universe.\n",
            "etymology\n",
            "Bot: [30][31]\n",
            "\n",
            "etymology\n",
            "the word universe derives from the old french word univers, which in turn derives from the latin word universum.\n",
            "bye\n",
            "Bot: Goodbye.\n"
          ]
        }
      ]
    },
    {
      "cell_type": "code",
      "source": [],
      "metadata": {
        "id": "V4VDQBhN-U6w"
      },
      "execution_count": null,
      "outputs": []
    }
  ]
}